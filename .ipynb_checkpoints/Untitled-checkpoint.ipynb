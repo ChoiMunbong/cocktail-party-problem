{
 "cells": [
  {
   "cell_type": "code",
   "execution_count": 47,
   "metadata": {},
   "outputs": [
    {
     "name": "stderr",
     "output_type": "stream",
     "text": [
      "C:\\Users\\pcmar\\Anaconda3\\lib\\site-packages\\fastcore\\foundation.py:52: UserWarning: `patch_property` is deprecated and will be removed; use `patch(as_prop=True)` instead\n",
      "  warnings.warn(\"`patch_property` is deprecated and will be removed; use `patch(as_prop=True)` instead\")\n"
     ]
    }
   ],
   "source": [
    "!python DataGeneratorNew.py --animal Macaque --data_directory Data --config preprocessing_config.json --os Windows --objective Classification --regime Closed"
   ]
  },
  {
   "cell_type": "code",
   "execution_count": 48,
   "metadata": {},
   "outputs": [
    {
     "name": "stderr",
     "output_type": "stream",
     "text": [
      "C:\\Users\\pcmar\\Anaconda3\\lib\\site-packages\\fastcore\\foundation.py:52: UserWarning: `patch_property` is deprecated and will be removed; use `patch(as_prop=True)` instead\n",
      "  warnings.warn(\"`patch_property` is deprecated and will be removed; use `patch(as_prop=True)` instead\")\n",
      "\n",
      "  0%|          | 0/80 [00:00<?, ?it/s]\n",
      "  4%|3         | 3/80 [00:00<00:03, 21.33it/s]\n",
      "  8%|7         | 6/80 [00:00<00:03, 22.86it/s]\n",
      " 11%|#1        | 9/80 [00:00<00:03, 23.19it/s]\n",
      " 14%|#3        | 11/80 [00:00<00:03, 20.43it/s]\n",
      " 18%|#7        | 14/80 [00:00<00:03, 21.39it/s]\n",
      " 22%|##2       | 18/80 [00:00<00:02, 22.50it/s]\n",
      " 26%|##6       | 21/80 [00:00<00:02, 22.14it/s]\n",
      " 30%|###       | 24/80 [00:01<00:02, 22.66it/s]\n",
      " 34%|###3      | 27/80 [00:01<00:02, 22.24it/s]\n",
      " 38%|###7      | 30/80 [00:01<00:02, 21.96it/s]\n",
      " 41%|####1     | 33/80 [00:01<00:02, 23.36it/s]\n",
      " 45%|####5     | 36/80 [00:01<00:01, 22.71it/s]\n",
      " 49%|####8     | 39/80 [00:01<00:01, 23.09it/s]\n",
      " 52%|#####2    | 42/80 [00:01<00:01, 21.76it/s]\n",
      " 56%|#####6    | 45/80 [00:01<00:01, 22.39it/s]\n",
      " 60%|######    | 48/80 [00:02<00:01, 23.69it/s]\n",
      " 64%|######3   | 51/80 [00:02<00:01, 22.93it/s]\n",
      " 68%|######7   | 54/80 [00:02<00:01, 23.24it/s]\n",
      " 71%|#######1  | 57/80 [00:02<00:01, 22.63it/s]\n",
      " 75%|#######5  | 60/80 [00:02<00:00, 23.89it/s]\n",
      " 79%|#######8  | 63/80 [00:02<00:00, 23.92it/s]\n",
      " 82%|########2 | 66/80 [00:02<00:00, 23.94it/s]\n",
      " 86%|########6 | 69/80 [00:02<00:00, 23.10it/s]\n",
      " 90%|######### | 72/80 [00:03<00:00, 24.24it/s]\n",
      " 94%|#########3| 75/80 [00:03<00:00, 22.48it/s]\n",
      " 98%|#########7| 78/80 [00:03<00:00, 23.76it/s]\n",
      "100%|##########| 80/80 [00:03<00:00, 23.06it/s]\n",
      "\n",
      "  0%|          | 0/20 [00:00<?, ?it/s]\n",
      " 10%|#         | 2/20 [00:00<00:01, 14.22it/s]\n",
      " 20%|##        | 4/20 [00:00<00:01, 15.24it/s]\n",
      " 35%|###5      | 7/20 [00:00<00:00, 17.11it/s]\n",
      " 45%|####5     | 9/20 [00:00<00:00, 17.45it/s]\n",
      " 60%|######    | 12/20 [00:00<00:00, 17.94it/s]\n",
      " 75%|#######5  | 15/20 [00:00<00:00, 20.02it/s]\n",
      " 90%|######### | 18/20 [00:00<00:00, 21.06it/s]\n",
      "100%|##########| 20/20 [00:00<00:00, 20.32it/s]\n"
     ]
    }
   ],
   "source": [
    "!python DataGeneratorNew.py --animal Macaque --data_directory Data --config preprocessing_config.json --os Windows --objective Separation --regime Closed"
   ]
  },
  {
   "cell_type": "code",
   "execution_count": 49,
   "metadata": {},
   "outputs": [
    {
     "name": "stdout",
     "output_type": "stream",
     "text": [
      "Open regime data cannot be found\n"
     ]
    },
    {
     "name": "stderr",
     "output_type": "stream",
     "text": [
      "C:\\Users\\pcmar\\Anaconda3\\lib\\site-packages\\fastcore\\foundation.py:52: UserWarning: `patch_property` is deprecated and will be removed; use `patch(as_prop=True)` instead\n",
      "  warnings.warn(\"`patch_property` is deprecated and will be removed; use `patch(as_prop=True)` instead\")\n",
      "Traceback (most recent call last):\n",
      "  File \"DataGeneratorNew.py\", line 214, in <module>\n",
      "    X_open = [row for row in np.load(root+'Waveforms/X_open.npy')]\n",
      "  File \"C:\\Users\\pcmar\\Anaconda3\\lib\\site-packages\\numpy\\lib\\npyio.py\", line 416, in load\n",
      "    fid = stack.enter_context(open(os_fspath(file), \"rb\"))\n",
      "FileNotFoundError: [Errno 2] No such file or directory: 'Macaque/Data/Waveforms/X_open.npy'\n",
      "\n",
      "During handling of the above exception, another exception occurred:\n",
      "\n",
      "Traceback (most recent call last):\n",
      "  File \"DataGeneratorNew.py\", line 217, in <module>\n",
      "    assert regime=='Closed', print('Open regime data cannot be found')\n",
      "AssertionError: None\n"
     ]
    }
   ],
   "source": [
    "!python DataGeneratorNew.py --animal Macaque --data_directory Data --config preprocessing_config.json --os Windows --objective Separation --regime Open"
   ]
  },
  {
   "cell_type": "code",
   "execution_count": 51,
   "metadata": {},
   "outputs": [
    {
     "name": "stderr",
     "output_type": "stream",
     "text": [
      "C:\\Users\\pcmar\\Anaconda3\\lib\\site-packages\\fastcore\\foundation.py:52: UserWarning: `patch_property` is deprecated and will be removed; use `patch(as_prop=True)` instead\n",
      "  warnings.warn(\"`patch_property` is deprecated and will be removed; use `patch(as_prop=True)` instead\")\n"
     ]
    }
   ],
   "source": [
    "!python DataGeneratorNew.py --animal Macaque --data_directory Data --config preprocessing_configTest.json --os Windows --objective Separation --regime Closed"
   ]
  },
  {
   "cell_type": "code",
   "execution_count": 55,
   "metadata": {},
   "outputs": [
    {
     "data": {
      "text/plain": [
       "torch.Size([5828])"
      ]
     },
     "execution_count": 55,
     "metadata": {},
     "output_type": "execute_result"
    }
   ],
   "source": [
    "import torch\n",
    "torch.load('Macaque/Data/SeparatorClosed/Y_train.pt').size()"
   ]
  }
 ],
 "metadata": {
  "kernelspec": {
   "display_name": "Python 3",
   "language": "python",
   "name": "python3"
  },
  "language_info": {
   "codemirror_mode": {
    "name": "ipython",
    "version": 3
   },
   "file_extension": ".py",
   "mimetype": "text/x-python",
   "name": "python",
   "nbconvert_exporter": "python",
   "pygments_lexer": "ipython3",
   "version": "3.8.3"
  }
 },
 "nbformat": 4,
 "nbformat_minor": 4
}
