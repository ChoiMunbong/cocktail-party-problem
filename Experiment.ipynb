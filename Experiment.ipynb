{
 "cells": [
  {
   "cell_type": "code",
   "execution_count": 1,
   "metadata": {},
   "outputs": [],
   "source": [
    "import argparse\n",
    "import json\n",
    "import os\n",
    "import glob\n",
    "\n",
    "import torch\n",
    "import torch.nn as nn\n",
    "import torch.functional as F\n",
    "import torch.optim as optim\n",
    "import librosa\n",
    "\n",
    "from Separator import *\n",
    "from Dataset import *\n",
    "from Layers import *\n",
    "from Models import *\n",
    "from Losses import *\n",
    "from Metrics import *\n",
    "from Utils import *\n",
    "from PyFire import Trainer\n",
    "from VisualizationsAndDemonstrations import *\n",
    "import scipy.io.wavfile as wavfile\n",
    "\n",
    "import wave\n",
    "import numpy as np\n",
    "import datetime\n",
    "\n",
    "# wav 파일을 읽어서 numpy 배열로 반환\n",
    "def read_wav(filename):\n",
    "    with wave.open(filename, 'rb') as w:\n",
    "        n = w.getnframes()\n",
    "        data = w.readframes(n)\n",
    "        dtype = np.int16 if w.getsampwidth() == 2 else np.int8\n",
    "        return np.frombuffer(data, dtype=dtype)\n",
    "\n",
    "# numpy 배열을 wav 파일로 저장\n",
    "def save_wav(filename, data, params):\n",
    "    with wave.open(filename, 'wb') as w:\n",
    "        w.setparams(params)\n",
    "        w.writeframes(data.tobytes())\n",
    "\n",
    "\n"
   ]
  },
  {
   "cell_type": "markdown",
   "metadata": {},
   "source": [
    "#Data Mixing"
   ]
  },
  {
   "cell_type": "code",
   "execution_count": 7,
   "metadata": {},
   "outputs": [],
   "source": [
    "\n",
    "year = datetime.datetime.now().year\n",
    "month = datetime.datetime.now().month\n",
    "day = datetime.datetime.now().day\n",
    "\n",
    "date = str(year) + str(month) + str(day)\n",
    "\n",
    "bird_path = 'D:/MILAB/Experiment/animal_sound_classification/cocktail-party-problem/BioacousticData/Bird/clean_bird'\n",
    "noise_path = 'D:/MILAB/Experiment/animal_sound_classification/cocktail-party-problem/BioacousticData/Bird/back_noise'\n",
    "\n",
    "bird_datas = [f for f in os.listdir(bird_path) if f.endswith('.wav')]\n",
    "noise_datas = [f for f in os.listdir(noise_path) if f.endswith('.wav')]\n",
    "\n",
    "file1_name = random.sample(bird_datas,1)\n",
    "file2_name = random.sample(noise_datas,1)\n",
    "\n",
    "file1_path = os.path.join(bird_path, file1_name[-1])\n",
    "file2_path = os.path.join(noise_path, file2_name[-1])\n",
    "result_path = \"D:/MILAB/Experiment/animal_sound_classification/cocktail-party-problem/Assets/Bird/result\"\n",
    "\n",
    "# 두 소리 파일 읽기\n",
    "data1 = read_wav(file1_path)\n",
    "data2 = read_wav(file2_path)\n",
    "\n",
    "# 두 소리 데이터의 길이가 다를 경우를 대비하여 짧은 쪽의 길이에 맞춰줌\n",
    "min_len = min(len(data1), len(data2))\n",
    "data1, data2 = data1[:min_len], data2[:min_len]\n",
    "\n",
    "# 두 소리 데이터를 합성\n",
    "mixed_data = data1 + data2\n",
    "\n",
    "# 클리핑: -32768과 32767 사이의 값으로 제한\n",
    "mixed_data = np.clip(mixed_data, -32768, 32767).astype(np.int16)\n",
    "\n",
    "# 합성한 데이터를 새로운 wav 파일로 저장\n",
    "with wave.open(file1_path, 'rb') as w:\n",
    "    params = w.getparams()\n",
    "\n",
    "file1_name = file1_name[-1].split('.')[0]\n",
    "file2_name = file2_name[-1].split('.')[0]\n",
    "\n",
    "try:\n",
    "    os.mkdir(result_path)\n",
    "except :\n",
    "    pass\n",
    "    \n",
    "mixed_output_path = os.path.join(result_path, f'{date}__{file1_name}__{file2_name}_mixed_output.wav')\n",
    "save_wav(mixed_output_path, mixed_data, params)"
   ]
  },
  {
   "cell_type": "code",
   "execution_count": 8,
   "metadata": {},
   "outputs": [
    {
     "name": "stdout",
     "output_type": "stream",
     "text": [
      "D:/MILAB/Experiment/animal_sound_classification/cocktail-party-problem/Assets/Bird/result\\230804__128909-11_6610__26_12627_13018_mixed_output.wav\n",
      "torch.Size([1, 11025])\n",
      "tensor([[[-0.0092, -0.0056, -0.0053,  ...,  0.0000,  0.0000,  0.0000],\n",
      "         [-0.0665, -0.0756, -0.0779,  ...,  0.0000,  0.0000,  0.0000]]],\n",
      "       grad_fn=<CatBackward0>)\n",
      "result\\230804__128909-11_6610__26_12627_13018_mixed_output\n"
     ]
    },
    {
     "name": "stderr",
     "output_type": "stream",
     "text": [
      "c:\\Users\\Munbong_Choi\\anaconda3\\envs\\cock_tail\\lib\\site-packages\\torch\\functional.py:632: UserWarning: stft will soon require the return_complex parameter be given for real inputs, and will further require that return_complex=True in a future PyTorch release. (Triggered internally at C:\\cb\\pytorch_1000000000000\\work\\aten\\src\\ATen\\native\\SpectralOps.cpp:804.)\n",
      "  return _VF.stft(input, n_fft, hop_length, win_length, window,  # type: ignore[attr-defined]\n",
      "d:\\MILAB\\Experiment\\animal_sound_classification\\cocktail-party-problem\\Layers.py:96: UserWarning: istft will require a complex-valued input tensor in a future PyTorch release. Matching the output from stft with return_complex=True.  (Triggered internally at C:\\cb\\pytorch_1000000000000\\work\\aten\\src\\ATen\\native\\SpectralOps.cpp:980.)\n",
      "  x = torch.istft(S, n_fft=self.kernel_size, hop_length=self.stride, window=self.window).unsqueeze(dim=1)\n"
     ]
    }
   ],
   "source": [
    "data = mixed_output_path\n",
    "\n",
    "#1.4.7_379.wav\n",
    "# file_name = \"1.1.1_103.wav\"\n",
    "# data = \"D:/MILAB/Experiment/animal_sound_classification/cocktail-party-problem/BioacousticData/Bird/Bird/\" + file_name\n",
    "\n",
    "#noise\n",
    "# data = \"D:/MILAB/Experiment/animal_sound_classification/cocktail-party-problem/BioacousticData/Bird/Noise/22050_Noise_12445.wav\"\n",
    "#신버전\n",
    "# separator_path = \"D:/MILAB/Experiment/animal_sound_classification/cocktail-party-problem/Bird/Separator/Models/saver_epoch68.pt\"\n",
    "#구버전\n",
    "separator_path = \"D:/MILAB/Experiment/animal_sound_classification/cocktail-party-problem/Bird/Classifier/Models/1nllloss_accuracy_.pt\"\n",
    "\n",
    "root = 'Bird/'\n",
    "if root[-1] != r'/':\n",
    "    root += r'/'\n",
    "\n",
    "with open(root + 'config.json') as f:\n",
    "    config = f.read()\n",
    "config = json.loads(config)\n",
    " \n",
    "global separator_model_config\n",
    "separator_model_config = config['separator_model_params']\n",
    "\n",
    "print(data)\n",
    "data_name = data.split(\".\")[0]\n",
    "data_name = data_name.split(\"/\")[-1]\n",
    "model_name = separator_path.split(\".\")[0]\n",
    "model_name = model_name.split(\"/\")[-1]\n",
    "\n",
    "data, _ = librosa.load(data, sr=22050, duration=0.5)\n",
    "data = torch.Tensor(data).reshape(1,11025)\n",
    "print(data.size())\n",
    "separator = RepUNet(**separator_model_config)\n",
    "\n",
    "y = separator(data)\n",
    "print(y)\n",
    "print(data_name)"
   ]
  },
  {
   "cell_type": "code",
   "execution_count": 9,
   "metadata": {},
   "outputs": [],
   "source": [
    "data_name = data_name.split('\\\\')[-1]\n",
    "data_np = y.detach().numpy()\n",
    "\n",
    "data_1 = data_np[:, 0, :].reshape(11025)\n",
    "data_2 = data_np[:, 1, :].reshape(11025)\n",
    "\n",
    "sample_rate = 22050\n",
    "file_name_1 = f\"D:/MILAB/Experiment/animal_sound_classification/cocktail-party-problem/Assets/Bird/{date}_{model_name}_{data_name}_separated_1.wav\"\n",
    "file_name_2 = f\"D:/MILAB/Experiment/animal_sound_classification/cocktail-party-problem/Assets/Bird/{date}_{model_name}_{data_name}_separated_2.wav\"\n",
    "\n",
    "wavfile.write(file_name_1, sample_rate, data_1)\n",
    "wavfile.write(file_name_2, sample_rate, data_2)\n"
   ]
  },
  {
   "cell_type": "code",
   "execution_count": null,
   "metadata": {},
   "outputs": [],
   "source": []
  },
  {
   "cell_type": "code",
   "execution_count": 12,
   "metadata": {},
   "outputs": [
    {
     "ename": "TypeError",
     "evalue": "return arrays must be of ArrayType",
     "output_type": "error",
     "traceback": [
      "\u001b[1;31m---------------------------------------------------------------------------\u001b[0m",
      "\u001b[1;31mTypeError\u001b[0m                                 Traceback (most recent call last)",
      "\u001b[1;32m<ipython-input-12-5ec2291a9fdd>\u001b[0m in \u001b[0;36m<module>\u001b[1;34m\u001b[0m\n\u001b[0;32m      2\u001b[0m \u001b[0mplt\u001b[0m\u001b[1;33m.\u001b[0m\u001b[0mfigure\u001b[0m\u001b[1;33m(\u001b[0m\u001b[0mfigsize\u001b[0m\u001b[1;33m=\u001b[0m\u001b[1;33m(\u001b[0m\u001b[1;36m10\u001b[0m\u001b[1;33m,\u001b[0m \u001b[1;36m4\u001b[0m\u001b[1;33m)\u001b[0m\u001b[1;33m)\u001b[0m\u001b[1;33m\u001b[0m\u001b[1;33m\u001b[0m\u001b[0m\n\u001b[0;32m      3\u001b[0m \u001b[0mplt\u001b[0m\u001b[1;33m.\u001b[0m\u001b[0mtitle\u001b[0m\u001b[1;33m(\u001b[0m\u001b[1;34m\"first data spectrogram\"\u001b[0m\u001b[1;33m)\u001b[0m\u001b[1;33m\u001b[0m\u001b[1;33m\u001b[0m\u001b[0m\n\u001b[1;32m----> 4\u001b[1;33m \u001b[0marray\u001b[0m \u001b[1;33m=\u001b[0m \u001b[0mlibrosa\u001b[0m\u001b[1;33m.\u001b[0m\u001b[0mdisplay\u001b[0m\u001b[1;33m.\u001b[0m\u001b[0mspecshow\u001b[0m\u001b[1;33m(\u001b[0m\u001b[0mlibrosa\u001b[0m\u001b[1;33m.\u001b[0m\u001b[0mamplitude_to_db\u001b[0m\u001b[1;33m(\u001b[0m\u001b[0mnp\u001b[0m\u001b[1;33m.\u001b[0m\u001b[0mabs\u001b[0m\u001b[1;33m(\u001b[0m\u001b[0mdata_1\u001b[0m\u001b[1;33m)\u001b[0m\u001b[1;33m)\u001b[0m\u001b[1;33m,\u001b[0m \u001b[0msr\u001b[0m\u001b[1;33m=\u001b[0m\u001b[0msample_rate\u001b[0m\u001b[1;33m,\u001b[0m \u001b[0mx_axis\u001b[0m\u001b[1;33m=\u001b[0m\u001b[1;34m'time'\u001b[0m\u001b[1;33m,\u001b[0m \u001b[0my_axis\u001b[0m\u001b[1;33m=\u001b[0m\u001b[1;34m'hz'\u001b[0m\u001b[1;33m)\u001b[0m\u001b[1;33m\u001b[0m\u001b[1;33m\u001b[0m\u001b[0m\n\u001b[0m\u001b[0;32m      5\u001b[0m \u001b[0mplt\u001b[0m\u001b[1;33m.\u001b[0m\u001b[0mcolorbar\u001b[0m\u001b[1;33m(\u001b[0m\u001b[0mformat\u001b[0m\u001b[1;33m=\u001b[0m\u001b[1;34m'%+2.0f dB'\u001b[0m\u001b[1;33m)\u001b[0m\u001b[1;33m\u001b[0m\u001b[1;33m\u001b[0m\u001b[0m\n\u001b[0;32m      6\u001b[0m \u001b[0mplt\u001b[0m\u001b[1;33m.\u001b[0m\u001b[0mtight_layout\u001b[0m\u001b[1;33m(\u001b[0m\u001b[1;33m)\u001b[0m\u001b[1;33m\u001b[0m\u001b[1;33m\u001b[0m\u001b[0m\n",
      "\u001b[1;32mc:\\Users\\Munbong_Choi\\anaconda3\\envs\\cock_tail\\lib\\site-packages\\librosa\\core\\spectrum.py\u001b[0m in \u001b[0;36mamplitude_to_db\u001b[1;34m(S, ref, amin, top_db)\u001b[0m\n\u001b[0;32m   1653\u001b[0m         \u001b[0mref_value\u001b[0m \u001b[1;33m=\u001b[0m \u001b[0mnp\u001b[0m\u001b[1;33m.\u001b[0m\u001b[0mabs\u001b[0m\u001b[1;33m(\u001b[0m\u001b[0mref\u001b[0m\u001b[1;33m)\u001b[0m\u001b[1;33m\u001b[0m\u001b[1;33m\u001b[0m\u001b[0m\n\u001b[0;32m   1654\u001b[0m \u001b[1;33m\u001b[0m\u001b[0m\n\u001b[1;32m-> 1655\u001b[1;33m     \u001b[0mpower\u001b[0m \u001b[1;33m=\u001b[0m \u001b[0mnp\u001b[0m\u001b[1;33m.\u001b[0m\u001b[0msquare\u001b[0m\u001b[1;33m(\u001b[0m\u001b[0mmagnitude\u001b[0m\u001b[1;33m,\u001b[0m \u001b[0mout\u001b[0m\u001b[1;33m=\u001b[0m\u001b[0mmagnitude\u001b[0m\u001b[1;33m)\u001b[0m\u001b[1;33m\u001b[0m\u001b[1;33m\u001b[0m\u001b[0m\n\u001b[0m\u001b[0;32m   1656\u001b[0m \u001b[1;33m\u001b[0m\u001b[0m\n\u001b[0;32m   1657\u001b[0m     \u001b[1;32mreturn\u001b[0m \u001b[0mpower_to_db\u001b[0m\u001b[1;33m(\u001b[0m\u001b[0mpower\u001b[0m\u001b[1;33m,\u001b[0m \u001b[0mref\u001b[0m\u001b[1;33m=\u001b[0m\u001b[0mref_value\u001b[0m \u001b[1;33m**\u001b[0m \u001b[1;36m2\u001b[0m\u001b[1;33m,\u001b[0m \u001b[0mamin\u001b[0m\u001b[1;33m=\u001b[0m\u001b[0mamin\u001b[0m \u001b[1;33m**\u001b[0m \u001b[1;36m2\u001b[0m\u001b[1;33m,\u001b[0m \u001b[0mtop_db\u001b[0m\u001b[1;33m=\u001b[0m\u001b[0mtop_db\u001b[0m\u001b[1;33m)\u001b[0m\u001b[1;33m\u001b[0m\u001b[1;33m\u001b[0m\u001b[0m\n",
      "\u001b[1;31mTypeError\u001b[0m: return arrays must be of ArrayType"
     ]
    },
    {
     "data": {
      "image/png": "[encoded data removed]",
      "text/plain": [
       "<Figure size 720x288 with 1 Axes>"
      ]
     },
     "metadata": {
      "needs_background": "light"
     },
     "output_type": "display_data"
    }
   ],
   "source": [
    "data_1 = np.array(data_1[0])\n",
    "plt.figure(figsize=(10, 4))\n",
    "plt.title(\"first data spectrogram\")\n",
    "array = librosa.display.specshow(librosa.amplitude_to_db(np.abs(data_1)), sr=sample_rate, x_axis='time', y_axis='hz')\n",
    "plt.colorbar(format='%+2.0f dB')\n",
    "plt.tight_layout()\n",
    "plt.show()"
   ]
  },
  {
   "cell_type": "code",
   "execution_count": 24,
   "metadata": {},
   "outputs": [
    {
     "ename": "TypeError",
     "evalue": "return arrays must be of ArrayType",
     "output_type": "error",
     "traceback": [
      "\u001b[1;31m---------------------------------------------------------------------------\u001b[0m",
      "\u001b[1;31mTypeError\u001b[0m                                 Traceback (most recent call last)",
      "\u001b[1;32m<ipython-input-24-fddd26f6e156>\u001b[0m in \u001b[0;36m<module>\u001b[1;34m\u001b[0m\n\u001b[0;32m      2\u001b[0m \u001b[0mplt\u001b[0m\u001b[1;33m.\u001b[0m\u001b[0mfigure\u001b[0m\u001b[1;33m(\u001b[0m\u001b[0mfigsize\u001b[0m\u001b[1;33m=\u001b[0m\u001b[1;33m(\u001b[0m\u001b[1;36m10\u001b[0m\u001b[1;33m,\u001b[0m \u001b[1;36m4\u001b[0m\u001b[1;33m)\u001b[0m\u001b[1;33m)\u001b[0m\u001b[1;33m\u001b[0m\u001b[1;33m\u001b[0m\u001b[0m\n\u001b[0;32m      3\u001b[0m \u001b[0mplt\u001b[0m\u001b[1;33m.\u001b[0m\u001b[0mtitle\u001b[0m\u001b[1;33m(\u001b[0m\u001b[1;34m\"두 번째 음악 데이터의 스펙트로그램\"\u001b[0m\u001b[1;33m)\u001b[0m\u001b[1;33m\u001b[0m\u001b[1;33m\u001b[0m\u001b[0m\n\u001b[1;32m----> 4\u001b[1;33m \u001b[0mlibrosa\u001b[0m\u001b[1;33m.\u001b[0m\u001b[0mdisplay\u001b[0m\u001b[1;33m.\u001b[0m\u001b[0mspecshow\u001b[0m\u001b[1;33m(\u001b[0m\u001b[0mlibrosa\u001b[0m\u001b[1;33m.\u001b[0m\u001b[0mamplitude_to_db\u001b[0m\u001b[1;33m(\u001b[0m\u001b[0mnp\u001b[0m\u001b[1;33m.\u001b[0m\u001b[0mabs\u001b[0m\u001b[1;33m(\u001b[0m\u001b[0mdata_2\u001b[0m\u001b[1;33m[\u001b[0m\u001b[1;36m0\u001b[0m\u001b[1;33m]\u001b[0m\u001b[1;33m)\u001b[0m\u001b[1;33m)\u001b[0m\u001b[1;33m,\u001b[0m \u001b[0msr\u001b[0m\u001b[1;33m=\u001b[0m\u001b[0msample_rate\u001b[0m\u001b[1;33m,\u001b[0m \u001b[0mx_axis\u001b[0m\u001b[1;33m=\u001b[0m\u001b[1;34m'time'\u001b[0m\u001b[1;33m,\u001b[0m \u001b[0my_axis\u001b[0m\u001b[1;33m=\u001b[0m\u001b[1;34m'hz'\u001b[0m\u001b[1;33m)\u001b[0m\u001b[1;33m\u001b[0m\u001b[1;33m\u001b[0m\u001b[0m\n\u001b[0m\u001b[0;32m      5\u001b[0m \u001b[0mplt\u001b[0m\u001b[1;33m.\u001b[0m\u001b[0mcolorbar\u001b[0m\u001b[1;33m(\u001b[0m\u001b[0mformat\u001b[0m\u001b[1;33m=\u001b[0m\u001b[1;34m'%+2.0f dB'\u001b[0m\u001b[1;33m)\u001b[0m\u001b[1;33m\u001b[0m\u001b[1;33m\u001b[0m\u001b[0m\n\u001b[0;32m      6\u001b[0m \u001b[0mplt\u001b[0m\u001b[1;33m.\u001b[0m\u001b[0mtight_layout\u001b[0m\u001b[1;33m(\u001b[0m\u001b[1;33m)\u001b[0m\u001b[1;33m\u001b[0m\u001b[1;33m\u001b[0m\u001b[0m\n",
      "\u001b[1;32mc:\\Users\\Munbong_Choi\\anaconda3\\envs\\cock_tail\\lib\\site-packages\\librosa\\core\\spectrum.py\u001b[0m in \u001b[0;36mamplitude_to_db\u001b[1;34m(S, ref, amin, top_db)\u001b[0m\n\u001b[0;32m   1653\u001b[0m         \u001b[0mref_value\u001b[0m \u001b[1;33m=\u001b[0m \u001b[0mnp\u001b[0m\u001b[1;33m.\u001b[0m\u001b[0mabs\u001b[0m\u001b[1;33m(\u001b[0m\u001b[0mref\u001b[0m\u001b[1;33m)\u001b[0m\u001b[1;33m\u001b[0m\u001b[1;33m\u001b[0m\u001b[0m\n\u001b[0;32m   1654\u001b[0m \u001b[1;33m\u001b[0m\u001b[0m\n\u001b[1;32m-> 1655\u001b[1;33m     \u001b[0mpower\u001b[0m \u001b[1;33m=\u001b[0m \u001b[0mnp\u001b[0m\u001b[1;33m.\u001b[0m\u001b[0msquare\u001b[0m\u001b[1;33m(\u001b[0m\u001b[0mmagnitude\u001b[0m\u001b[1;33m,\u001b[0m \u001b[0mout\u001b[0m\u001b[1;33m=\u001b[0m\u001b[0mmagnitude\u001b[0m\u001b[1;33m)\u001b[0m\u001b[1;33m\u001b[0m\u001b[1;33m\u001b[0m\u001b[0m\n\u001b[0m\u001b[0;32m   1656\u001b[0m \u001b[1;33m\u001b[0m\u001b[0m\n\u001b[0;32m   1657\u001b[0m     \u001b[1;32mreturn\u001b[0m \u001b[0mpower_to_db\u001b[0m\u001b[1;33m(\u001b[0m\u001b[0mpower\u001b[0m\u001b[1;33m,\u001b[0m \u001b[0mref\u001b[0m\u001b[1;33m=\u001b[0m\u001b[0mref_value\u001b[0m \u001b[1;33m**\u001b[0m \u001b[1;36m2\u001b[0m\u001b[1;33m,\u001b[0m \u001b[0mamin\u001b[0m\u001b[1;33m=\u001b[0m\u001b[0mamin\u001b[0m \u001b[1;33m**\u001b[0m \u001b[1;36m2\u001b[0m\u001b[1;33m,\u001b[0m \u001b[0mtop_db\u001b[0m\u001b[1;33m=\u001b[0m\u001b[0mtop_db\u001b[0m\u001b[1;33m)\u001b[0m\u001b[1;33m\u001b[0m\u001b[1;33m\u001b[0m\u001b[0m\n",
      "\u001b[1;31mTypeError\u001b[0m: return arrays must be of ArrayType"
     ]
    },
    {
     "name": "stderr",
     "output_type": "stream",
     "text": [
      "c:\\Users\\Munbong_Choi\\anaconda3\\envs\\cock_tail\\lib\\site-packages\\matplotlib\\backends\\backend_agg.py:238: RuntimeWarning: Glyph 46160 missing from current font.\n",
      "  font.set_text(s, 0.0, flags=flags)\n",
      "c:\\Users\\Munbong_Choi\\anaconda3\\envs\\cock_tail\\lib\\site-packages\\matplotlib\\backends\\backend_agg.py:238: RuntimeWarning: Glyph 48264 missing from current font.\n",
      "  font.set_text(s, 0.0, flags=flags)\n",
      "c:\\Users\\Munbong_Choi\\anaconda3\\envs\\cock_tail\\lib\\site-packages\\matplotlib\\backends\\backend_agg.py:238: RuntimeWarning: Glyph 51704 missing from current font.\n",
      "  font.set_text(s, 0.0, flags=flags)\n",
      "c:\\Users\\Munbong_Choi\\anaconda3\\envs\\cock_tail\\lib\\site-packages\\matplotlib\\backends\\backend_agg.py:238: RuntimeWarning: Glyph 51020 missing from current font.\n",
      "  font.set_text(s, 0.0, flags=flags)\n",
      "c:\\Users\\Munbong_Choi\\anaconda3\\envs\\cock_tail\\lib\\site-packages\\matplotlib\\backends\\backend_agg.py:238: RuntimeWarning: Glyph 50501 missing from current font.\n",
      "  font.set_text(s, 0.0, flags=flags)\n",
      "c:\\Users\\Munbong_Choi\\anaconda3\\envs\\cock_tail\\lib\\site-packages\\matplotlib\\backends\\backend_agg.py:238: RuntimeWarning: Glyph 45936 missing from current font.\n",
      "  font.set_text(s, 0.0, flags=flags)\n",
      "c:\\Users\\Munbong_Choi\\anaconda3\\envs\\cock_tail\\lib\\site-packages\\matplotlib\\backends\\backend_agg.py:238: RuntimeWarning: Glyph 51060 missing from current font.\n",
      "  font.set_text(s, 0.0, flags=flags)\n",
      "c:\\Users\\Munbong_Choi\\anaconda3\\envs\\cock_tail\\lib\\site-packages\\matplotlib\\backends\\backend_agg.py:238: RuntimeWarning: Glyph 53552 missing from current font.\n",
      "  font.set_text(s, 0.0, flags=flags)\n",
      "c:\\Users\\Munbong_Choi\\anaconda3\\envs\\cock_tail\\lib\\site-packages\\matplotlib\\backends\\backend_agg.py:238: RuntimeWarning: Glyph 51032 missing from current font.\n",
      "  font.set_text(s, 0.0, flags=flags)\n",
      "c:\\Users\\Munbong_Choi\\anaconda3\\envs\\cock_tail\\lib\\site-packages\\matplotlib\\backends\\backend_agg.py:238: RuntimeWarning: Glyph 49828 missing from current font.\n",
      "  font.set_text(s, 0.0, flags=flags)\n",
      "c:\\Users\\Munbong_Choi\\anaconda3\\envs\\cock_tail\\lib\\site-packages\\matplotlib\\backends\\backend_agg.py:238: RuntimeWarning: Glyph 54169 missing from current font.\n",
      "  font.set_text(s, 0.0, flags=flags)\n",
      "c:\\Users\\Munbong_Choi\\anaconda3\\envs\\cock_tail\\lib\\site-packages\\matplotlib\\backends\\backend_agg.py:238: RuntimeWarning: Glyph 53944 missing from current font.\n",
      "  font.set_text(s, 0.0, flags=flags)\n",
      "c:\\Users\\Munbong_Choi\\anaconda3\\envs\\cock_tail\\lib\\site-packages\\matplotlib\\backends\\backend_agg.py:238: RuntimeWarning: Glyph 47196 missing from current font.\n",
      "  font.set_text(s, 0.0, flags=flags)\n",
      "c:\\Users\\Munbong_Choi\\anaconda3\\envs\\cock_tail\\lib\\site-packages\\matplotlib\\backends\\backend_agg.py:238: RuntimeWarning: Glyph 44536 missing from current font.\n",
      "  font.set_text(s, 0.0, flags=flags)\n",
      "c:\\Users\\Munbong_Choi\\anaconda3\\envs\\cock_tail\\lib\\site-packages\\matplotlib\\backends\\backend_agg.py:238: RuntimeWarning: Glyph 47016 missing from current font.\n",
      "  font.set_text(s, 0.0, flags=flags)\n",
      "c:\\Users\\Munbong_Choi\\anaconda3\\envs\\cock_tail\\lib\\site-packages\\matplotlib\\backends\\backend_agg.py:201: RuntimeWarning: Glyph 46160 missing from current font.\n",
      "  font.set_text(s, 0, flags=flags)\n",
      "c:\\Users\\Munbong_Choi\\anaconda3\\envs\\cock_tail\\lib\\site-packages\\matplotlib\\backends\\backend_agg.py:201: RuntimeWarning: Glyph 48264 missing from current font.\n",
      "  font.set_text(s, 0, flags=flags)\n",
      "c:\\Users\\Munbong_Choi\\anaconda3\\envs\\cock_tail\\lib\\site-packages\\matplotlib\\backends\\backend_agg.py:201: RuntimeWarning: Glyph 51704 missing from current font.\n",
      "  font.set_text(s, 0, flags=flags)\n",
      "c:\\Users\\Munbong_Choi\\anaconda3\\envs\\cock_tail\\lib\\site-packages\\matplotlib\\backends\\backend_agg.py:201: RuntimeWarning: Glyph 51020 missing from current font.\n",
      "  font.set_text(s, 0, flags=flags)\n",
      "c:\\Users\\Munbong_Choi\\anaconda3\\envs\\cock_tail\\lib\\site-packages\\matplotlib\\backends\\backend_agg.py:201: RuntimeWarning: Glyph 50501 missing from current font.\n",
      "  font.set_text(s, 0, flags=flags)\n",
      "c:\\Users\\Munbong_Choi\\anaconda3\\envs\\cock_tail\\lib\\site-packages\\matplotlib\\backends\\backend_agg.py:201: RuntimeWarning: Glyph 45936 missing from current font.\n",
      "  font.set_text(s, 0, flags=flags)\n",
      "c:\\Users\\Munbong_Choi\\anaconda3\\envs\\cock_tail\\lib\\site-packages\\matplotlib\\backends\\backend_agg.py:201: RuntimeWarning: Glyph 51060 missing from current font.\n",
      "  font.set_text(s, 0, flags=flags)\n",
      "c:\\Users\\Munbong_Choi\\anaconda3\\envs\\cock_tail\\lib\\site-packages\\matplotlib\\backends\\backend_agg.py:201: RuntimeWarning: Glyph 53552 missing from current font.\n",
      "  font.set_text(s, 0, flags=flags)\n",
      "c:\\Users\\Munbong_Choi\\anaconda3\\envs\\cock_tail\\lib\\site-packages\\matplotlib\\backends\\backend_agg.py:201: RuntimeWarning: Glyph 51032 missing from current font.\n",
      "  font.set_text(s, 0, flags=flags)\n",
      "c:\\Users\\Munbong_Choi\\anaconda3\\envs\\cock_tail\\lib\\site-packages\\matplotlib\\backends\\backend_agg.py:201: RuntimeWarning: Glyph 49828 missing from current font.\n",
      "  font.set_text(s, 0, flags=flags)\n",
      "c:\\Users\\Munbong_Choi\\anaconda3\\envs\\cock_tail\\lib\\site-packages\\matplotlib\\backends\\backend_agg.py:201: RuntimeWarning: Glyph 54169 missing from current font.\n",
      "  font.set_text(s, 0, flags=flags)\n",
      "c:\\Users\\Munbong_Choi\\anaconda3\\envs\\cock_tail\\lib\\site-packages\\matplotlib\\backends\\backend_agg.py:201: RuntimeWarning: Glyph 53944 missing from current font.\n",
      "  font.set_text(s, 0, flags=flags)\n",
      "c:\\Users\\Munbong_Choi\\anaconda3\\envs\\cock_tail\\lib\\site-packages\\matplotlib\\backends\\backend_agg.py:201: RuntimeWarning: Glyph 47196 missing from current font.\n",
      "  font.set_text(s, 0, flags=flags)\n",
      "c:\\Users\\Munbong_Choi\\anaconda3\\envs\\cock_tail\\lib\\site-packages\\matplotlib\\backends\\backend_agg.py:201: RuntimeWarning: Glyph 44536 missing from current font.\n",
      "  font.set_text(s, 0, flags=flags)\n",
      "c:\\Users\\Munbong_Choi\\anaconda3\\envs\\cock_tail\\lib\\site-packages\\matplotlib\\backends\\backend_agg.py:201: RuntimeWarning: Glyph 47016 missing from current font.\n",
      "  font.set_text(s, 0, flags=flags)\n"
     ]
    },
    {
     "data": {
      "image/png": "[encoded data removed]",
      "text/plain": [
       "<Figure size 720x288 with 1 Axes>"
      ]
     },
     "metadata": {
      "needs_background": "light"
     },
     "output_type": "display_data"
    }
   ],
   "source": [
    "data_2 = np.array(data_2)\n",
    "plt.figure(figsize=(10, 4))\n",
    "plt.title(\"두 번째 음악 데이터의 스펙트로그램\")\n",
    "librosa.display.specshow(librosa.amplitude_to_db(np.abs(data_2[0])), sr=sample_rate, x_axis='time', y_axis='hz')\n",
    "plt.colorbar(format='%+2.0f dB')\n",
    "plt.tight_layout()\n",
    "plt.show()"
   ]
  },
  {
   "cell_type": "code",
   "execution_count": null,
   "metadata": {},
   "outputs": [],
   "source": [
    "path = \"c:/Users/Munbong_Choi/Downloads/clean_bird/wavfiles/11713-1.wav\"\n",
    "data, sr = librosa.load(path)\n",
    "print(sr)\n",
    "\n",
    "#noise sr = 22050"
   ]
  },
  {
   "cell_type": "markdown",
   "metadata": {},
   "source": []
  }
 ],
 "metadata": {
  "kernelspec": {
   "display_name": "cock_tail",
   "language": "python",
   "name": "python3"
  },
  "language_info": {
   "codemirror_mode": {
    "name": "ipython",
    "version": 3
   },
   "file_extension": ".py",
   "mimetype": "text/x-python",
   "name": "python",
   "nbconvert_exporter": "python",
   "pygments_lexer": "ipython3",
   "version": "3.8.17"
  },
  "orig_nbformat": 4
 },
 "nbformat": 4,
 "nbformat_minor": 2
}
